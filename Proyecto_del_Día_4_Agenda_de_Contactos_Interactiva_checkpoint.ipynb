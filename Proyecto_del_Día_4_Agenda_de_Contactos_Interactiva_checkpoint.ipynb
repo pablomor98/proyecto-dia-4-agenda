{
  "cells": [
    {
      "cell_type": "markdown",
      "metadata": {
        "id": "view-in-github",
        "colab_type": "text"
      },
      "source": [
        "<a href=\"https://colab.research.google.com/github/pablomor98/proyecto-dia-4-agenda-/blob/main/Proyecto_del_D%C3%ADa_4_Agenda_de_Contactos_Interactiva_checkpoint.ipynb\" target=\"_parent\"><img src=\"https://colab.research.google.com/assets/colab-badge.svg\" alt=\"Open In Colab\"/></a>"
      ]
    },
    {
      "cell_type": "markdown",
      "id": "0d153c56",
      "metadata": {
        "id": "0d153c56"
      },
      "source": [
        "# Proyecto del Día 4: Agenda de Contactos Interactiva\n",
        "\n",
        "### Objetivo\n",
        "Crear una agenda de contactos utilizando Python, aplicando los conceptos aprendidos sobre listas, tuplas, diccionarios, booleanos y estructuras de control.\n",
        "\n",
        "\n",
        "### Consigna\n",
        "Cada vez que inicies tu agenda, va a comenzar preguntándole al usuario cuál de estas opciones prefiere:\n",
        "1. **Añadir un contacto**: Crear un nuevo registro en la agenda (nombre, telefono).\n",
        "2. **Buscar un contacto**: Buscar un contacto por nombre y mostrar su teléfono, o un mensaje de error si no lo encuentra.\n",
        "3. **Editar un contacto**: Modificar teléfono de un contacto existente.\n",
        "4. **Eliminar un contacto**: Eliminar un contacto de la agenda (investiga los métodos disponibles para lograrlo)\n",
        "5. **Mostrar todos los contactos**: Mostrar todos los contactos guardados en la agenda.\n",
        "\n",
        "El usuario elegirá una de esas opciones, y el programa ejecutará el código correspondiente para procesar su pedido y mostrarle el resultado.\n",
        "\n",
        "\n",
        "### Notas y Ayudas\n",
        "- Debido a que vas a almacenar pares de datos (nombre y teléfono) ¿cuál crees que sería la mejor estructura de datos para guardarlos: **listas**, **tuplas** o **diccionarios**?\n",
        "- Algunas de las funcionalidades de tu agenda, pueden requerir que investigues algunos métodos que no hemos visto en las lecciones, pero que podrás descubrir con *type*, *dir* y *help*.\n",
        "<br>  \n",
        "<br>\n",
        "<br>"
      ]
    },
    {
      "cell_type": "markdown",
      "id": "c6c4ab9d",
      "metadata": {
        "id": "c6c4ab9d"
      },
      "source": [
        "## Resolución"
      ]
    },
    {
      "cell_type": "markdown",
      "id": "cb507a52",
      "metadata": {
        "id": "cb507a52"
      },
      "source": [
        "Crea una agenda vacía"
      ]
    },
    {
      "cell_type": "code",
      "execution_count": null,
      "id": "e9c026bd",
      "metadata": {
        "id": "e9c026bd"
      },
      "outputs": [],
      "source": [
        "contactos = {}"
      ]
    },
    {
      "cell_type": "markdown",
      "id": "be7b6b93",
      "metadata": {
        "id": "be7b6b93"
      },
      "source": [
        "En la siguiente celda, incluye el código para ejecutar las siguientes instrucciones:\n",
        "- Mostrar en pantalla las opciones\n",
        "- Pedirle al usuario que elija las opciones\n",
        "- Crear una estructura de control (*if*, *elif* y *else*) que ejecute diferentes bloques de código según las opciones elegidas."
      ]
    },
    {
      "cell_type": "code",
      "execution_count": null,
      "id": "45fbcf91",
      "metadata": {
        "colab": {
          "base_uri": "https://localhost:8080/"
        },
        "id": "45fbcf91",
        "outputId": "ab12d3ed-23ac-427b-8dc9-481ac588545b"
      },
      "outputs": [
        {
          "output_type": "stream",
          "name": "stdout",
          "text": [
            "\n",
            "  1. Añadir un contacto\n",
            "  2. Buscar un contacto\n",
            "  3. Editar un contacto\n",
            "  4. Eliminar un contacto\n",
            "  5. Mostrar todos los contactos\n",
            "  6. Salir\n",
            "  1\n",
            "Ingresa el nombre del contacto: Luisa\n",
            "Ingresa el número telefónico del contacto: 3311347345\n",
            "\n",
            "  1. Añadir un contacto\n",
            "  2. Buscar un contacto\n",
            "  3. Editar un contacto\n",
            "  4. Eliminar un contacto\n",
            "  5. Mostrar todos los contactos\n",
            "  6. Salir\n",
            "  2\n",
            "Ingresa el nombre del contacto a buscar: Luisa\n",
            "3311347345\n",
            "\n",
            "  1. Añadir un contacto\n",
            "  2. Buscar un contacto\n",
            "  3. Editar un contacto\n",
            "  4. Eliminar un contacto\n",
            "  5. Mostrar todos los contactos\n",
            "  6. Salir\n",
            "  34\n",
            "Opción no válida\n",
            "\n",
            "  1. Añadir un contacto\n",
            "  2. Buscar un contacto\n",
            "  3. Editar un contacto\n",
            "  4. Eliminar un contacto\n",
            "  5. Mostrar todos los contactos\n",
            "  6. Salir\n",
            "  23\n",
            "Opción no válida\n",
            "\n",
            "  1. Añadir un contacto\n",
            "  2. Buscar un contacto\n",
            "  3. Editar un contacto\n",
            "  4. Eliminar un contacto\n",
            "  5. Mostrar todos los contactos\n",
            "  6. Salir\n",
            "  6\n",
            "Saliendo del programa...\n"
          ]
        }
      ],
      "source": [
        "while True:\n",
        "  opcion = input(\"\"\"\n",
        "  1. Añadir un contacto\n",
        "  2. Buscar un contacto\n",
        "  3. Editar un contacto\n",
        "  4. Eliminar un contacto\n",
        "  5. Mostrar todos los contactos\n",
        "  6. Salir\n",
        "  \"\"\")\n",
        "\n",
        "  if opcion == \"1\":\n",
        "    nombre = input(\"Ingresa el nombre del contacto: \").strip()\n",
        "    numero = input(\"Ingresa el número telefónico del contacto: \").strip()\n",
        "    contactos[nombre] = numero\n",
        "  elif opcion == \"2\":\n",
        "    contacto_a_buscar = input(\"Ingresa el nombre del contacto a buscar: \").strip()\n",
        "    print(contactos.get(contacto_a_buscar, \"Contacto no encontrado!\"))\n",
        "  elif opcion == \"3\":\n",
        "    contacto_a_editar = input(\"Ingresa el nombre del usuario a editar: \").strip()\n",
        "    numero_nuevo = input(\"Ingresa el nuevo número telefónico del contacto: \").strip()\n",
        "    contactos[contacto_a_editar] = numero_nuevo\n",
        "  elif opcion == \"4\":\n",
        "    contacto_a_eliminar = input(\"Ingresa el nombre del contacto a eliminar: \").strip()\n",
        "    contactos.pop(contacto_a_eliminar, \"El usuario a eliminar no existe en los contactos\")\n",
        "  elif opcion == \"5\":\n",
        "    for contacto, numero in contactos.items():\n",
        "      print(f\"Nombre: {contacto}\\nNúmero: {numero}\")\n",
        "  elif opcion == \"6\":\n",
        "    print(\"Saliendo del programa...\")\n",
        "    break\n",
        "  else:\n",
        "    print(\"Opción no válida\")"
      ]
    }
  ],
  "metadata": {
    "kernelspec": {
      "display_name": "Python 3 (ipykernel)",
      "language": "python",
      "name": "python3"
    },
    "language_info": {
      "codemirror_mode": {
        "name": "ipython",
        "version": 3
      },
      "file_extension": ".py",
      "mimetype": "text/x-python",
      "name": "python",
      "nbconvert_exporter": "python",
      "pygments_lexer": "ipython3",
      "version": "3.11.5"
    },
    "colab": {
      "provenance": [],
      "include_colab_link": true
    }
  },
  "nbformat": 4,
  "nbformat_minor": 5
}